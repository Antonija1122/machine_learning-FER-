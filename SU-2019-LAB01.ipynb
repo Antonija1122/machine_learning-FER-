{
 "cells": [
  {
   "cell_type": "markdown",
   "metadata": {},
   "source": [
    "Sveučilište u Zagrebu  \n",
    "Fakultet elektrotehnike i računarstva  \n",
    "  \n",
    "## Strojno učenje 2019/2020  \n",
    "http://www.fer.unizg.hr/predmet/su"
   ]
  },
  {
   "cell_type": "markdown",
   "metadata": {},
   "source": [
    "------------------------------\n",
    "\n",
    "### Laboratorijska vježba 1: Regresija\n",
    "\n",
    "*Verzija: 1.2  \n",
    "Zadnji put ažurirano: 27. rujna 2019.*\n",
    "\n",
    "(c) 2015-2019 Jan Šnajder, Domagoj Alagić \n",
    "\n",
    "Objavljeno: **30. rujna 2019.**  \n",
    "Rok za predaju: **21. listopada 2019. u 07:00h**\n",
    "\n",
    "------------------------------"
   ]
  },
  {
   "cell_type": "markdown",
   "metadata": {},
   "source": [
    "### Upute\n",
    "\n",
    "Prva laboratorijska vježba sastoji se od deset zadataka. U nastavku slijedite upute navedene u ćelijama s tekstom. Rješavanje vježbe svodi se na **dopunjavanje ove bilježnice**: umetanja ćelije ili više njih **ispod** teksta zadatka, pisanja odgovarajućeg kôda te evaluiranja ćelija. \n",
    "\n",
    "Osigurajte da u potpunosti **razumijete** kôd koji ste napisali. Kod predaje vježbe, morate biti u stanju na zahtjev asistenta (ili demonstratora) preinačiti i ponovno evaluirati Vaš kôd. Nadalje, morate razumjeti teorijske osnove onoga što radite, u okvirima onoga što smo obradili na predavanju. Ispod nekih zadataka možete naći i pitanja koja služe kao smjernice za bolje razumijevanje gradiva (**nemojte pisati** odgovore na pitanja u bilježnicu). Stoga se nemojte ograničiti samo na to da riješite zadatak, nego slobodno eksperimentirajte. To upravo i jest svrha ovih vježbi.\n",
    "\n",
    "Vježbe trebate raditi **samostalno**. Možete se konzultirati s drugima o načelnom načinu rješavanja, ali u konačnici morate sami odraditi vježbu. U protivnome vježba nema smisla."
   ]
  },
  {
   "cell_type": "code",
   "execution_count": 40,
   "metadata": {},
   "outputs": [
    {
     "name": "stdout",
     "output_type": "stream",
     "text": [
      "Populating the interactive namespace from numpy and matplotlib\n"
     ]
    }
   ],
   "source": [
    "# Učitaj osnovne biblioteke...\n",
    "import numpy as np\n",
    "import sklearn\n",
    "import matplotlib.pyplot as plt\n",
    "\n",
    "import warnings\n",
    "warnings.filterwarnings('ignore')\n",
    "\n",
    "%pylab inline"
   ]
  },
  {
   "cell_type": "markdown",
   "metadata": {},
   "source": [
    "## Zadatci"
   ]
  },
  {
   "cell_type": "markdown",
   "metadata": {},
   "source": [
    "### 1. Jednostavna regresija"
   ]
  },
  {
   "cell_type": "markdown",
   "metadata": {},
   "source": [
    "Zadan je skup primjera $\\mathcal{D}=\\{(x^{(i)},y^{(i)})\\}_{i=1}^4 = \\{(0,4),(1,1),(2,2),(4,5)\\}$. Primjere predstavite matricom $\\mathbf{X}$ dimenzija $N\\times n$ (u ovom slučaju $4\\times 1$) i vektorom oznaka $\\textbf{y}$, dimenzija $N\\times 1$ (u ovom slučaju $4\\times 1$), na sljedeći način:\n"
   ]
  },
  {
   "cell_type": "code",
   "execution_count": 41,
   "metadata": {},
   "outputs": [],
   "source": [
    "X = np.array([[0],[1],[2],[4]])\n",
    "y = np.array([4,1,2,5])"
   ]
  },
  {
   "cell_type": "markdown",
   "metadata": {},
   "source": [
    "### (a)\n",
    "\n",
    "Proučite funkciju [`PolynomialFeatures`](http://scikit-learn.org/stable/modules/generated/sklearn.preprocessing.PolynomialFeatures.html) iz biblioteke `sklearn` i upotrijebite je za generiranje matrice dizajna $\\mathbf{\\Phi}$ koja ne koristi preslikavanje u prostor više dimenzije (samo će svakom primjeru biti dodane *dummy* jedinice; $m=n+1$).\n"
   ]
  },
  {
   "cell_type": "code",
   "execution_count": 42,
   "metadata": {},
   "outputs": [],
   "source": [
    "from sklearn.preprocessing import PolynomialFeatures"
   ]
  },
  {
   "cell_type": "code",
   "execution_count": 43,
   "metadata": {},
   "outputs": [
    {
     "name": "stdout",
     "output_type": "stream",
     "text": [
      "[[1. 0.]\n",
      " [1. 1.]\n",
      " [1. 2.]\n",
      " [1. 4.]]\n"
     ]
    }
   ],
   "source": [
    "# Vaš kôd ovdje\n",
    "\n",
    "𝚽 = PolynomialFeatures(1).fit_transform(X)\n",
    "print(𝚽)"
   ]
  },
  {
   "cell_type": "markdown",
   "metadata": {},
   "source": [
    "### (b)"
   ]
  },
  {
   "cell_type": "markdown",
   "metadata": {},
   "source": [
    "Upoznajte se s modulom [`linalg`](http://docs.scipy.org/doc/numpy/reference/routines.linalg.html). Izračunajte težine $\\mathbf{w}$ modela linearne regresije kao $\\mathbf{w}=(\\mathbf{\\Phi}^\\intercal\\mathbf{\\Phi})^{-1}\\mathbf{\\Phi}^\\intercal\\mathbf{y}$. Zatim se uvjerite da isti rezultat možete dobiti izračunom pseudoinverza $\\mathbf{\\Phi}^+$ matrice dizajna, tj. $\\mathbf{w}=\\mathbf{\\Phi}^+\\mathbf{y}$, korištenjem funkcije [`pinv`](http://docs.scipy.org/doc/numpy/reference/generated/numpy.linalg.pinv.html)."
   ]
  },
  {
   "cell_type": "code",
   "execution_count": 44,
   "metadata": {},
   "outputs": [],
   "source": [
    "from numpy import linalg"
   ]
  },
  {
   "cell_type": "code",
   "execution_count": 45,
   "metadata": {},
   "outputs": [
    {
     "name": "stdout",
     "output_type": "stream",
     "text": [
      "[2.2        0.45714286]\n",
      "[2.2        0.45714286]\n"
     ]
    }
   ],
   "source": [
    "# Vaš kôd ovdje\n",
    "\n",
    "#formula 𝐰=(𝚽⊺𝚽)^(−1) * 𝚽⊺𝐲\n",
    "\n",
    "𝚽T𝚽 = matmul(𝚽.T, 𝚽)\n",
    "𝚽T𝚽Inv=linalg.inv(𝚽T𝚽)\n",
    "𝚽pinv = matmul(𝚽T𝚽Inv, 𝚽.T)\n",
    "w=matmul(𝚽pinv, y)\n",
    "print(w)\n",
    "\n",
    "#pseudoinverz 𝐰=𝚽pinv * 𝐲\n",
    "\n",
    "wAlternate= matmul(𝚽pinv,y)\n",
    "print(wAlternate)\n"
   ]
  },
  {
   "cell_type": "markdown",
   "metadata": {},
   "source": [
    "Radi jasnoće, u nastavku je vektor $\\mathbf{x}$ s dodanom *dummy* jedinicom $x_0=1$ označen kao $\\tilde{\\mathbf{x}}$."
   ]
  },
  {
   "cell_type": "markdown",
   "metadata": {},
   "source": [
    "### (c)"
   ]
  },
  {
   "cell_type": "markdown",
   "metadata": {},
   "source": [
    "Prikažite primjere iz $\\mathcal{D}$ i funkciju $h(\\tilde{\\mathbf{x}})=\\mathbf{w}^\\intercal\\tilde{\\mathbf{x}}$. Izračunajte pogrešku učenja prema izrazu $E(h|\\mathcal{D})=\\frac{1}{2}\\sum_{i=1}^N(\\tilde{\\mathbf{y}}^{(i)} - h(\\tilde{\\mathbf{x}}))^2$. Možete koristiti funkciju srednje kvadratne pogreške [`mean_squared_error`]( http://scikit-learn.org/stable/modules/generated/sklearn.metrics.mean_squared_error.html) iz modula [`sklearn.metrics`](http://scikit-learn.org/stable/modules/classes.html#module-sklearn.metrics).\n",
    "\n",
    "**Q:** Gore definirana funkcija pogreške $E(h|\\mathcal{D})$ i funkcija srednje kvadratne pogreške nisu posve identične. U čemu je razlika? Koja je \"realnija\"?"
   ]
  },
  {
   "cell_type": "code",
   "execution_count": 46,
   "metadata": {},
   "outputs": [
    {
     "name": "stdout",
     "output_type": "stream",
     "text": [
      "Primjeri iz D: \n",
      " [4 1 2 5]\n",
      "Rezultati predviđanja: \n",
      " [2.2        2.65714286 3.11428571 4.02857143]\n",
      "Pogreška prema fji sr. kvadratne vrijenosti:  2.0428571428571427\n",
      "Pogreška učenja prema zadanom izrazu:  4.085714285714285\n"
     ]
    }
   ],
   "source": [
    "# Vaš kôd ovdje \n",
    "\n",
    "from sklearn.metrics import mean_squared_error\n",
    "h = np.dot(𝚽, w)\n",
    "\n",
    "print('Primjeri iz D: \\n', y)\n",
    "print('Rezultati predviđanja: \\n', h)\n",
    "\n",
    "print('Pogreška prema fji sr. kvadratne vrijenosti: ', mean_squared_error(y, h))\n",
    "print('Pogreška učenja prema zadanom izrazu: ', mean_squared_error(y, h) * len(X)/2)\n"
   ]
  },
  {
   "cell_type": "markdown",
   "metadata": {},
   "source": [
    "### (d)"
   ]
  },
  {
   "cell_type": "markdown",
   "metadata": {},
   "source": [
    "Uvjerite se da za primjere iz $\\mathcal{D}$ težine $\\mathbf{w}$ ne možemo naći rješavanjem sustava $\\mathbf{w}=\\mathbf{\\Phi}^{-1}\\mathbf{y}$, već da nam doista treba pseudoinverz.\n",
    "\n",
    "**Q:** Zašto je to slučaj? Bi li se problem mogao riješiti preslikavanjem primjera u višu dimenziju? Ako da, bi li to uvijek funkcioniralo, neovisno o skupu primjera $\\mathcal{D}$? Pokažite na primjeru."
   ]
  },
  {
   "cell_type": "code",
   "execution_count": 47,
   "metadata": {},
   "outputs": [
    {
     "name": "stdout",
     "output_type": "stream",
     "text": [
      "Matrica 𝚽 preslikana u višu dimenziju: \n",
      " [[ 1.  0.  0.  0.]\n",
      " [ 1.  1.  1.  1.]\n",
      " [ 1.  2.  4.  8.]\n",
      " [ 1.  4. 16. 64.]]\n",
      "Dobivena predviđanja : \n",
      " [ 4.         -5.91666667  3.375      -0.45833333]\n"
     ]
    }
   ],
   "source": [
    "# Vaš kôd ovdje\n",
    "\n",
    "# rjesavanje prema 𝐰=𝚽−1𝐲 baca error jer matrica 𝚽 nije kvadratna\n",
    "# wKrivo=matmul(linalg.inv(𝚽),y)\n",
    "\n",
    "#odgovor na Q\n",
    "dim = 3\n",
    "𝚽dim=PolynomialFeatures(dim).fit_transform(X)\n",
    "print('Matrica 𝚽 preslikana u višu dimenziju: \\n', 𝚽dim)\n",
    "\n",
    "𝚽diminv = np.linalg.inv(𝚽dim)\n",
    "hD=np.dot(𝚽diminv, y)\n",
    "print('Dobivena predviđanja : \\n',hD)\n"
   ]
  },
  {
   "cell_type": "markdown",
   "metadata": {},
   "source": [
    "### (e) "
   ]
  },
  {
   "cell_type": "markdown",
   "metadata": {},
   "source": [
    "Proučite klasu [`LinearRegression`](http://scikit-learn.org/stable/modules/generated/sklearn.linear_model.LinearRegression.html) iz modula [`sklearn.linear_model`](http://scikit-learn.org/stable/modules/classes.html#module-sklearn.linear_model). Uvjerite se da su težine koje izračunava ta funkcija (dostupne pomoću atributa `coef_` i `intercept_`) jednake onima koje ste izračunali gore. Izračunajte predikcije modela (metoda `predict`) i uvjerite se da je pogreška učenja identična onoj koju ste ranije izračunali."
   ]
  },
  {
   "cell_type": "code",
   "execution_count": 48,
   "metadata": {},
   "outputs": [],
   "source": [
    "from sklearn.linear_model import LinearRegression"
   ]
  },
  {
   "cell_type": "code",
   "execution_count": 49,
   "metadata": {},
   "outputs": [
    {
     "name": "stdout",
     "output_type": "stream",
     "text": [
      "w pomoću LinearRegression modela: \n",
      " w= [2.2, 0.4571428571428572]\n",
      "predikcija pomoću LinearRegression modela: \n",
      " h= [2.2        2.65714286 3.11428571 4.02857143]\n",
      "greska predikcije lin modela:  2.042857142857143\n"
     ]
    }
   ],
   "source": [
    "# Vaš kôd ovdje\n",
    "\n",
    "regresija = LinearRegression().fit(𝚽, y)\n",
    "wIntercept=regresija.intercept_\n",
    "wCoef=regresija.coef_[1]\n",
    "wReg=[wIntercept, wCoef]\n",
    "print('w pomoću LinearRegression modela: \\n w=',wReg)\n",
    "\n",
    "hReg=regresija.predict(𝚽)\n",
    "print('predikcija pomoću LinearRegression modela: \\n h=', hReg)\n",
    "\n",
    "greska=mean_squared_error(hReg, y)\n",
    "print('greska predikcije lin modela: ', greska)"
   ]
  },
  {
   "cell_type": "markdown",
   "metadata": {},
   "source": [
    "### 2. Polinomijalna regresija i utjecaj šuma"
   ]
  },
  {
   "cell_type": "markdown",
   "metadata": {},
   "source": [
    "### (a)\n",
    "\n",
    "Razmotrimo sada regresiju na većem broju primjera. Definirajte funkciju `make_labels(X, f, noise=0)` koja uzima matricu neoznačenih primjera $\\mathbf{X}_{N\\times n}$ te generira vektor njihovih oznaka $\\mathbf{y}_{N\\times 1}$. Oznake se generiraju kao $y^{(i)} = f(x^{(i)})+\\mathcal{N}(0,\\sigma^2)$, gdje je $f:\\mathbb{R}^n\\to\\mathbb{R}$ stvarna funkcija koja je generirala podatke (koja nam je u stvarnosti nepoznata), a $\\sigma$ je standardna devijacija Gaussovog šuma, definirana parametrom `noise`. Za generiranje šuma možete koristiti funkciju [`numpy.random.normal`](https://docs.scipy.org/doc/numpy-1.15.0/reference/generated/numpy.random.normal.html). \n",
    "\n",
    "Generirajte skup za učenje od $N=50$ primjera uniformno distribuiranih u intervalu $[-5,5]$ pomoću funkcije $f(x) = 5 + x -2 x^2 -5 x^3$ uz šum  $\\sigma=200$:"
   ]
  },
  {
   "cell_type": "code",
   "execution_count": 50,
   "metadata": {},
   "outputs": [],
   "source": [
    "from numpy.random import normal\n",
    "\n",
    "def make_labels(X, f, noise=0) :\n",
    "    # Vaš kôd ovdje\n",
    "    return map(lambda x : f(x) + (normal(0,noise) if noise>0 else 0), X)"
   ]
  },
  {
   "cell_type": "code",
   "execution_count": 51,
   "metadata": {},
   "outputs": [
    {
     "name": "stdout",
     "output_type": "stream",
     "text": [
      "[ 638.99227143  524.05524463 1013.93459473  258.88298711  467.23365014\n",
      "  301.31371066  287.01809901 -109.3777289    96.56927473  306.57629387\n",
      " -193.15211079  259.87521211  134.64791872 -260.58452941  -69.4849419\n",
      "  -83.53282118  -27.46548052 -146.61167415  104.89247541  -95.42148892\n",
      "  -95.15253401 -165.57441926  129.08205922  175.69871595    1.68558883\n",
      "  -80.00196366  108.37763319 -441.38891966  252.47748558  359.32941116\n",
      " -380.03236409 -308.03422359   15.77692774   81.18530312  -43.2437363\n",
      " -125.53841091   86.49160096  142.59558155   75.75626658  -86.37426755\n",
      " -317.52136183 -388.08728971 -181.83789477 -330.56964201 -539.55321674\n",
      " -737.06694681 -545.59520819 -502.65778972 -603.05643584 -637.37063625]\n"
     ]
    }
   ],
   "source": [
    "def make_instances(x1, x2, N) :\n",
    "    return np.array([np.array([x]) for x in np.linspace(x1,x2,N)])\n",
    "\n",
    "def f(x):\n",
    "    return 5+x-2*x**2-5*x**3\n",
    "\n",
    "X2a=make_instances(-5,5,50)\n",
    "Y2a=np.fromiter(make_labels(X2a, f, noise=200), float) #radi jednodim. polje iterabilnih objekata\n",
    "print(Y2a)\n"
   ]
  },
  {
   "cell_type": "markdown",
   "metadata": {},
   "source": [
    "Prikažite taj skup funkcijom [`scatter`](http://matplotlib.org/api/pyplot_api.html#matplotlib.pyplot.scatter)."
   ]
  },
  {
   "cell_type": "code",
   "execution_count": 52,
   "metadata": {},
   "outputs": [
    {
     "data": {
      "text/plain": [
       "<matplotlib.collections.PathCollection at 0x27f534dc088>"
      ]
     },
     "execution_count": 52,
     "metadata": {},
     "output_type": "execute_result"
    },
    {
     "data": {
      "image/png": "[encoded data removed]",
      "text/plain": [
       "<Figure size 432x288 with 1 Axes>"
      ]
     },
     "metadata": {
      "needs_background": "light"
     },
     "output_type": "display_data"
    }
   ],
   "source": [
    "scatter(X2a, Y2a)"
   ]
  },
  {
   "cell_type": "markdown",
   "metadata": {},
   "source": [
    "### (b)"
   ]
  },
  {
   "cell_type": "markdown",
   "metadata": {},
   "source": [
    "Trenirajte model polinomijalne regresije stupnja $d=3$. Na istom grafikonu prikažite naučeni model $h(\\mathbf{x})=\\mathbf{w}^\\intercal\\tilde{\\mathbf{x}}$ i primjere za učenje. Izračunajte pogrešku učenja modela."
   ]
  },
  {
   "cell_type": "code",
   "execution_count": 53,
   "metadata": {},
   "outputs": [
    {
     "data": {
      "image/png": "[encoded data removed]",
      "text/plain": [
       "<Figure size 432x288 with 1 Axes>"
      ]
     },
     "metadata": {
      "needs_background": "light"
     },
     "output_type": "display_data"
    },
    {
     "name": "stdout",
     "output_type": "stream",
     "text": [
      "Pogreška učenja modela =  34661.23737260881\n"
     ]
    }
   ],
   "source": [
    "# Vaš kôd ovdje\n",
    "d=3\n",
    "polynomial= PolynomialFeatures(d);\n",
    "\n",
    "𝚽2 = polynomial.fit_transform(X2a) \n",
    "𝚽2pinv = linalg.pinv(𝚽2)\n",
    "w2 = np.matmul(𝚽2pinv,Y2a)\n",
    "h2 = np.matmul(𝚽2, w2.transpose()) \n",
    "\n",
    "scatter(X2a,Y2a)\n",
    "plt.plot(X2a,h2, 'r')\n",
    "plt.show()\n",
    "\n",
    "greska2 = mean_squared_error(Y2a, h2)\n",
    "print ('Pogreška učenja modela = ',greska2)"
   ]
  },
  {
   "cell_type": "markdown",
   "metadata": {},
   "source": [
    "### 3. Odabir modela"
   ]
  },
  {
   "cell_type": "markdown",
   "metadata": {},
   "source": [
    "### (a)\n",
    "\n",
    "Na skupu podataka iz zadatka 2 trenirajte pet modela linearne regresije $\\mathcal{H}_d$ različite složenosti, gdje je $d$ stupanj polinoma, $d\\in\\{1,3,5,10,20\\}$. Prikažite na istome grafikonu skup za učenje i funkcije $h_d(\\mathbf{x})$ za svih pet modela (preporučujemo koristiti `plot` unutar `for` petlje). Izračunajte pogrešku učenja svakog od modela.\n",
    "\n",
    "**Q:** Koji model ima najmanju pogrešku učenja i zašto?"
   ]
  },
  {
   "cell_type": "code",
   "execution_count": 54,
   "metadata": {},
   "outputs": [
    {
     "name": "stdout",
     "output_type": "stream",
     "text": [
      "Pogreška učenja modela za d = 1 je  55586.67751079558\n",
      "Pogreška učenja modela za d = 3 je  34661.23737260881\n",
      "Pogreška učenja modela za d = 5 je  33621.512710434414\n",
      "Pogreška učenja modela za d = 10 je  29544.34005295428\n",
      "Pogreška učenja modela za d = 20 je  25040.982508396035\n"
     ]
    },
    {
     "data": {
      "image/png": "[encoded data removed]",
      "text/plain": [
       "<Figure size 432x288 with 1 Axes>"
      ]
     },
     "metadata": {
      "needs_background": "light"
     },
     "output_type": "display_data"
    }
   ],
   "source": [
    "X3=X2a;\n",
    "Y3=Y2a;\n",
    "\n",
    "d=[1,3,5,10,20];\n",
    "scatter(X3,Y3)\n",
    "\n",
    "#colors=['r', 'g', 'p', 'b', g];\n",
    "\n",
    "for degree in d:\n",
    "    polynomial= PolynomialFeatures(degree);\n",
    "\n",
    "    𝚽3 = polynomial.fit_transform(X3) \n",
    "    𝚽3pinv = linalg.pinv(𝚽3)\n",
    "    w3 = np.matmul(𝚽3pinv,Y3)\n",
    "    h3 = np.matmul(𝚽3, w3.transpose()) \n",
    "    \n",
    "    plt.plot(X3,h3)\n",
    "\n",
    "    greska3 = mean_squared_error(Y3, h3)\n",
    "    print ('Pogreška učenja modela za d =', degree,'je ',greska3)\n",
    "\n",
    "\n"
   ]
  },
  {
   "cell_type": "markdown",
   "metadata": {},
   "source": [
    "### (b)"
   ]
  },
  {
   "cell_type": "markdown",
   "metadata": {},
   "source": [
    "Razdvojite skup primjera iz zadatka 2 pomoću funkcije [`model_selection.train_test_split`](https://scikit-learn.org/stable/modules/generated/sklearn.model_selection.train_test_split.html) na skup za učenja i skup za ispitivanje u omjeru 1:1. Prikažite na jednom grafikonu pogrešku učenja i ispitnu pogrešku za modele polinomijalne regresije $\\mathcal{H}_d$, sa stupnjem polinoma $d$ u rasponu $d\\in [1,2,\\ldots,20]$. Budući da kvadratna pogreška brzo raste za veće stupnjeve polinoma, umjesto da iscrtate izravno iznose pogrešaka, iscrtajte njihove logaritme.\n",
    "\n",
    "**NB:** Podjela na skupa za učenje i skup za ispitivanje mora za svih pet modela biti identična.\n",
    "\n",
    "**Q:** Je li rezultat u skladu s očekivanjima? Koji biste model odabrali i zašto?\n",
    "\n",
    "**Q:** Pokrenite iscrtavanje više puta. U čemu je problem? Bi li problem bio jednako izražen kad bismo imali više primjera? Zašto?"
   ]
  },
  {
   "cell_type": "code",
   "execution_count": 55,
   "metadata": {},
   "outputs": [],
   "source": [
    "from sklearn.model_selection import train_test_split"
   ]
  },
  {
   "cell_type": "code",
   "execution_count": 56,
   "metadata": {},
   "outputs": [
    {
     "name": "stdout",
     "output_type": "stream",
     "text": [
      "d = 1   \t greška testiranja = 77652.62827252135\n",
      "d = 2   \t greška testiranja = 78362.80786123856\n",
      "d = 3   \t greška testiranja = 56152.12267700267\n",
      "d = 4   \t greška testiranja = 56027.56406461923\n",
      "d = 5   \t greška testiranja = 64286.424292579526\n",
      "d = 6   \t greška testiranja = 65127.13378026113\n",
      "d = 7   \t greška testiranja = 93847.35217572156\n",
      "d = 8   \t greška testiranja = 93800.84134541199\n",
      "d = 9   \t greška testiranja = 85042.72793107452\n",
      "d = 10   \t greška testiranja = 73225.37902670531\n",
      "d = 11   \t greška testiranja = 74618.1933223147\n",
      "d = 12   \t greška testiranja = 69818.4785738507\n",
      "d = 13   \t greška testiranja = 74040.57613390818\n",
      "d = 14   \t greška testiranja = 80292.50529245305\n",
      "d = 15   \t greška testiranja = 124162.82935844324\n",
      "d = 16   \t greška testiranja = 113505.45232493192\n",
      "d = 17   \t greška testiranja = 1246318.5513868136\n",
      "d = 18   \t greška testiranja = 1397216.7671401433\n",
      "d = 19   \t greška testiranja = 4309540.365155008\n",
      "d = 20   \t greška testiranja = 1311665.8900243116\n"
     ]
    },
    {
     "data": {
      "text/plain": [
       "[<matplotlib.lines.Line2D at 0x27f536608c8>]"
      ]
     },
     "execution_count": 56,
     "metadata": {},
     "output_type": "execute_result"
    },
    {
     "data": {
      "image/png": "[encoded data removed]",
      "text/plain": [
       "<Figure size 432x288 with 1 Axes>"
      ]
     },
     "metadata": {
      "needs_background": "light"
     },
     "output_type": "display_data"
    },
    {
     "data": {
      "image/png": "[encoded data removed]",
      "text/plain": [
       "<Figure size 432x288 with 1 Axes>"
      ]
     },
     "metadata": {
      "needs_background": "light"
     },
     "output_type": "display_data"
    }
   ],
   "source": [
    "\n",
    "gTrening = []\n",
    "gTest = []\n",
    "model3 = LinearRegression()\n",
    "\n",
    "for degree in range(1, 21) :\n",
    "    \n",
    "    polynomial = PolynomialFeatures(degree)\n",
    "    𝚽3b = polynomial.fit_transform(X3)\n",
    "    \n",
    "    Xtrain, Xtest, ytrain, ytest = train_test_split(𝚽3b, Y3, test_size=0.5, random_state=0)\n",
    "    \n",
    "    model3.fit(Xtrain, ytrain)\n",
    "    \n",
    "    predikcije = model3.predict(Xtrain)\n",
    "    gTrening.append(mean_squared_error(ytrain, predikcije))\n",
    "\n",
    "    predikcije = model3.predict(Xtest)\n",
    "    gTest.append(mean_squared_error(ytest, predikcije))\n",
    "\n",
    "    print('d =', degree, '  \\t greška testiranja =', mean_squared_error(ytest, predikcije))  \n",
    "    \n",
    "    figure(1)\n",
    "    model3.fit(𝚽3b, Y3)\n",
    "    predictions = model3.predict(𝚽3b)\n",
    "    plot(predictions)\n",
    "    \n",
    "    \n",
    "figure(2)\n",
    "plot(log(gTrening), \"b\")\n",
    "plot(log(gTest), \"r\")\n",
    "\n",
    "\n"
   ]
  },
  {
   "cell_type": "markdown",
   "metadata": {},
   "source": [
    "### (c)"
   ]
  },
  {
   "cell_type": "markdown",
   "metadata": {},
   "source": [
    "Točnost modela ovisi o (1) njegovoj složenosti (stupanj $d$ polinoma), (2) broju primjera $N$, i (3) količini šuma. Kako biste to analizirali, nacrtajte grafikone pogrešaka kao u 3b, ali za različit $N\\in$ (trećina, dvije trećine, sve) i količine šuma $\\sigma\\in\\{100,200,500\\}$ (ukupno 9 grafikona). Upotrijebite funkciju [`subplots`](http://matplotlib.org/examples/pylab_examples/subplots_demo.html) kako biste pregledno posložili grafikone u tablicu $3\\times 3$. Podatci se generiraju na isti način kao u zadatku 2.\n",
    "\n",
    "**NB:** Pobrinite se da svi grafikoni budu generirani nad usporedivim skupovima podataka, na sljedeći način. Generirajte najprije svih 1000 primjera, podijelite ih na skupove za učenje i skupove za ispitivanje (dva skupa od po 500 primjera). Zatim i od skupa za učenje i od skupa za ispitivanje načinite tri različite verzije, svaka s drugačijom količinom šuma (ukupno 2x3=6 verzija podataka). Kako bi simulirali veličinu skupa podataka, od tih dobivenih 6 skupova podataka uzorkujte trećinu, dvije trećine i sve podatke. Time ste dobili 18 skupova podataka -- skup za učenje i za testiranje za svaki od devet grafova."
   ]
  },
  {
   "cell_type": "code",
   "execution_count": 57,
   "metadata": {},
   "outputs": [
    {
     "name": "stdout",
     "output_type": "stream",
     "text": [
      "(333, 2) (333, 1)\n",
      "d = 1   \t greška testiranja = 19383.460081922094\n",
      "(333, 3) (333, 1)\n",
      "d = 2   \t greška testiranja = 18472.39676680302\n",
      "(333, 4) (333, 1)\n",
      "d = 3   \t greška testiranja = 8408.124182987509\n",
      "(333, 5) (333, 1)\n",
      "d = 4   \t greška testiranja = 8436.88190335536\n",
      "(333, 6) (333, 1)\n",
      "d = 5   \t greška testiranja = 8414.538781458501\n",
      "(333, 7) (333, 1)\n",
      "d = 6   \t greška testiranja = 8454.88004145305\n",
      "(333, 8) (333, 1)\n",
      "d = 7   \t greška testiranja = 8459.836470334523\n",
      "(333, 9) (333, 1)\n",
      "d = 8   \t greška testiranja = 8561.27871187163\n",
      "(333, 10) (333, 1)\n",
      "d = 9   \t greška testiranja = 8612.764398669882\n",
      "(333, 11) (333, 1)\n",
      "d = 10   \t greška testiranja = 8583.482976978466\n",
      "(333, 12) (333, 1)\n",
      "d = 11   \t greška testiranja = 8840.321725238857\n",
      "(333, 13) (333, 1)\n",
      "d = 12   \t greška testiranja = 8808.214643940622\n",
      "(333, 14) (333, 1)\n",
      "d = 13   \t greška testiranja = 8867.160797869885\n",
      "(333, 15) (333, 1)\n",
      "d = 14   \t greška testiranja = 8906.397637527645\n",
      "(333, 16) (333, 1)\n",
      "d = 15   \t greška testiranja = 8906.830652829085\n",
      "(333, 17) (333, 1)\n",
      "d = 16   \t greška testiranja = 8973.950993412534\n",
      "(333, 18) (333, 1)\n",
      "d = 17   \t greška testiranja = 8966.617971915804\n",
      "(333, 19) (333, 1)\n",
      "d = 18   \t greška testiranja = 9135.136757098977\n",
      "(333, 20) (333, 1)\n",
      "d = 19   \t greška testiranja = 9129.538690957315\n",
      "(333, 21) (333, 1)\n",
      "d = 20   \t greška testiranja = 9128.177941241245\n",
      "(333, 2) (333, 1)\n",
      "d = 1   \t greška testiranja = 41902.84939844599\n",
      "(333, 3) (333, 1)\n",
      "d = 2   \t greška testiranja = 42973.965800246755\n",
      "(333, 4) (333, 1)\n",
      "d = 3   \t greška testiranja = 35447.07289869683\n",
      "(333, 5) (333, 1)\n",
      "d = 4   \t greška testiranja = 34765.027002483715\n",
      "(333, 6) (333, 1)\n",
      "d = 5   \t greška testiranja = 36054.761902934566\n",
      "(333, 7) (333, 1)\n",
      "d = 6   \t greška testiranja = 36967.55237511372\n",
      "(333, 8) (333, 1)\n",
      "d = 7   \t greška testiranja = 36867.86802019312\n",
      "(333, 9) (333, 1)\n",
      "d = 8   \t greška testiranja = 37230.896569130455\n",
      "(333, 10) (333, 1)\n",
      "d = 9   \t greška testiranja = 37219.91432653216\n",
      "(333, 11) (333, 1)\n",
      "d = 10   \t greška testiranja = 37236.17169817523\n",
      "(333, 12) (333, 1)\n",
      "d = 11   \t greška testiranja = 37255.1626097513\n",
      "(333, 13) (333, 1)\n",
      "d = 12   \t greška testiranja = 37329.334313030704\n",
      "(333, 14) (333, 1)\n",
      "d = 13   \t greška testiranja = 38027.176851593686\n",
      "(333, 15) (333, 1)\n",
      "d = 14   \t greška testiranja = 38537.10827407258\n",
      "(333, 16) (333, 1)\n",
      "d = 15   \t greška testiranja = 38710.54745696753\n",
      "(333, 17) (333, 1)\n",
      "d = 16   \t greška testiranja = 39401.59775754023\n",
      "(333, 18) (333, 1)\n",
      "d = 17   \t greška testiranja = 40809.80463363681\n",
      "(333, 19) (333, 1)\n",
      "d = 18   \t greška testiranja = 40831.377950650865\n",
      "(333, 20) (333, 1)\n",
      "d = 19   \t greška testiranja = 41524.05472244582\n",
      "(333, 21) (333, 1)\n",
      "d = 20   \t greška testiranja = 43795.21298407189\n",
      "(333, 2) (333, 1)\n",
      "d = 1   \t greška testiranja = 376103.9859876129\n",
      "(333, 3) (333, 1)\n",
      "d = 2   \t greška testiranja = 378624.4342022792\n",
      "(333, 4) (333, 1)\n",
      "d = 3   \t greška testiranja = 352147.6724515718\n",
      "(333, 5) (333, 1)\n",
      "d = 4   \t greška testiranja = 350854.4475866019\n",
      "(333, 6) (333, 1)\n",
      "d = 5   \t greška testiranja = 350565.04290985723\n",
      "(333, 7) (333, 1)\n",
      "d = 6   \t greška testiranja = 350480.7142728933\n",
      "(333, 8) (333, 1)\n",
      "d = 7   \t greška testiranja = 350343.55154933134\n",
      "(333, 9) (333, 1)\n",
      "d = 8   \t greška testiranja = 353929.20394319843\n",
      "(333, 10) (333, 1)\n",
      "d = 9   \t greška testiranja = 349277.30261931167\n",
      "(333, 11) (333, 1)\n",
      "d = 10   \t greška testiranja = 351489.14555454376\n",
      "(333, 12) (333, 1)\n",
      "d = 11   \t greška testiranja = 351652.93150884955\n",
      "(333, 13) (333, 1)\n",
      "d = 12   \t greška testiranja = 351762.8139156568\n",
      "(333, 14) (333, 1)\n",
      "d = 13   \t greška testiranja = 350079.1528169877\n",
      "(333, 15) (333, 1)\n",
      "d = 14   \t greška testiranja = 364906.6489231009\n",
      "(333, 16) (333, 1)\n",
      "d = 15   \t greška testiranja = 363737.6625218545\n",
      "(333, 17) (333, 1)\n",
      "d = 16   \t greška testiranja = 373348.5064929963\n",
      "(333, 18) (333, 1)\n",
      "d = 17   \t greška testiranja = 371616.37713291607\n",
      "(333, 19) (333, 1)\n",
      "d = 18   \t greška testiranja = 367950.43167582905\n",
      "(333, 20) (333, 1)\n",
      "d = 19   \t greška testiranja = 367412.90180518106\n",
      "(333, 21) (333, 1)\n",
      "d = 20   \t greška testiranja = 367062.42236485897\n",
      "(666, 2) (666, 1)\n",
      "d = 1   \t greška testiranja = 18993.08706435718\n",
      "(666, 3) (666, 1)\n",
      "d = 2   \t greška testiranja = 19058.451819977123\n",
      "(666, 4) (666, 1)\n",
      "d = 3   \t greška testiranja = 9191.546941609524\n",
      "(666, 5) (666, 1)\n",
      "d = 4   \t greška testiranja = 9171.706597354992\n",
      "(666, 6) (666, 1)\n",
      "d = 5   \t greška testiranja = 9177.549919782634\n",
      "(666, 7) (666, 1)\n",
      "d = 6   \t greška testiranja = 9376.765028921194\n",
      "(666, 8) (666, 1)\n",
      "d = 7   \t greška testiranja = 9371.37340029529\n",
      "(666, 9) (666, 1)\n",
      "d = 8   \t greška testiranja = 9369.424409635678\n",
      "(666, 10) (666, 1)\n",
      "d = 9   \t greška testiranja = 9475.641636759428\n",
      "(666, 11) (666, 1)\n",
      "d = 10   \t greška testiranja = 9446.11080281753\n",
      "(666, 12) (666, 1)\n",
      "d = 11   \t greška testiranja = 9452.852220977382\n",
      "(666, 13) (666, 1)\n",
      "d = 12   \t greška testiranja = 9461.973349726873\n",
      "(666, 14) (666, 1)\n",
      "d = 13   \t greška testiranja = 9455.455890592977\n",
      "(666, 15) (666, 1)\n",
      "d = 14   \t greška testiranja = 9458.545559705768\n",
      "(666, 16) (666, 1)\n",
      "d = 15   \t greška testiranja = 9443.02821538164\n",
      "(666, 17) (666, 1)\n",
      "d = 16   \t greška testiranja = 9482.854565153524\n",
      "(666, 18) (666, 1)\n",
      "d = 17   \t greška testiranja = 9457.747401115166\n",
      "(666, 19) (666, 1)\n",
      "d = 18   \t greška testiranja = 9602.71351310489\n",
      "(666, 20) (666, 1)\n",
      "d = 19   \t greška testiranja = 9628.381071356269\n",
      "(666, 21) (666, 1)\n",
      "d = 20   \t greška testiranja = 9653.373421457065\n",
      "(666, 2) (666, 1)\n",
      "d = 1   \t greška testiranja = 45288.97018548268\n",
      "(666, 3) (666, 1)\n",
      "d = 2   \t greška testiranja = 44454.93174662039\n",
      "(666, 4) (666, 1)\n",
      "d = 3   \t greška testiranja = 37446.2356670017\n",
      "(666, 5) (666, 1)\n",
      "d = 4   \t greška testiranja = 37764.27893562892\n",
      "(666, 6) (666, 1)\n",
      "d = 5   \t greška testiranja = 37736.92564670626\n",
      "(666, 7) (666, 1)\n",
      "d = 6   \t greška testiranja = 37772.77705355723\n",
      "(666, 8) (666, 1)\n",
      "d = 7   \t greška testiranja = 38173.09960230889\n",
      "(666, 9) (666, 1)\n",
      "d = 8   \t greška testiranja = 38292.9243700701\n",
      "(666, 10) (666, 1)\n",
      "d = 9   \t greška testiranja = 38950.586149942195\n",
      "(666, 11) (666, 1)\n",
      "d = 10   \t greška testiranja = 38969.81008802752\n",
      "(666, 12) (666, 1)\n",
      "d = 11   \t greška testiranja = 38972.668216592734\n",
      "(666, 13) (666, 1)\n",
      "d = 12   \t greška testiranja = 38998.85622352184\n",
      "(666, 14) (666, 1)\n",
      "d = 13   \t greška testiranja = 38992.73352773595\n",
      "(666, 15) (666, 1)\n",
      "d = 14   \t greška testiranja = 40069.1696868083\n",
      "(666, 16) (666, 1)\n",
      "d = 15   \t greška testiranja = 40092.314387218925\n",
      "(666, 17) (666, 1)\n",
      "d = 16   \t greška testiranja = 40001.82915240683\n",
      "(666, 18) (666, 1)\n",
      "d = 17   \t greška testiranja = 40027.62330534498\n",
      "(666, 19) (666, 1)\n",
      "d = 18   \t greška testiranja = 40347.08054676929\n",
      "(666, 20) (666, 1)\n",
      "d = 19   \t greška testiranja = 42275.39487252717\n",
      "(666, 21) (666, 1)\n",
      "d = 20   \t greška testiranja = 41060.426885916175\n",
      "(666, 2) (666, 1)\n",
      "d = 1   \t greška testiranja = 252220.86816235768\n",
      "(666, 3) (666, 1)\n",
      "d = 2   \t greška testiranja = 252086.94196803236\n",
      "(666, 4) (666, 1)\n",
      "d = 3   \t greška testiranja = 247363.9327286401\n",
      "(666, 5) (666, 1)\n",
      "d = 4   \t greška testiranja = 248675.25733941878\n",
      "(666, 6) (666, 1)\n",
      "d = 5   \t greška testiranja = 248460.00712674193\n",
      "(666, 7) (666, 1)\n",
      "d = 6   \t greška testiranja = 248641.38025266925\n",
      "(666, 8) (666, 1)\n",
      "d = 7   \t greška testiranja = 248844.00076887978\n",
      "(666, 9) (666, 1)\n",
      "d = 8   \t greška testiranja = 247123.4818650978\n",
      "(666, 10) (666, 1)\n",
      "d = 9   \t greška testiranja = 246771.3450224726\n",
      "(666, 11) (666, 1)\n",
      "d = 10   \t greška testiranja = 244590.83099265106\n",
      "(666, 12) (666, 1)\n",
      "d = 11   \t greška testiranja = 245430.61923374643\n",
      "(666, 13) (666, 1)\n",
      "d = 12   \t greška testiranja = 245807.40059142013\n",
      "(666, 14) (666, 1)\n",
      "d = 13   \t greška testiranja = 246012.2134764088\n",
      "(666, 15) (666, 1)\n",
      "d = 14   \t greška testiranja = 246178.3557804384\n",
      "(666, 16) (666, 1)\n",
      "d = 15   \t greška testiranja = 246142.00867660044\n",
      "(666, 17) (666, 1)\n",
      "d = 16   \t greška testiranja = 246169.31892777665\n",
      "(666, 18) (666, 1)\n",
      "d = 17   \t greška testiranja = 246011.62986228833\n",
      "(666, 19) (666, 1)\n",
      "d = 18   \t greška testiranja = 246413.57547813395\n",
      "(666, 20) (666, 1)\n",
      "d = 19   \t greška testiranja = 247135.11175388366\n",
      "(666, 21) (666, 1)\n",
      "d = 20   \t greška testiranja = 247088.16928287348\n",
      "(1000, 2) (1000, 1)\n",
      "d = 1   \t greška testiranja = 19601.797516824616\n",
      "(1000, 3) (1000, 1)\n",
      "d = 2   \t greška testiranja = 19456.30912429759\n",
      "(1000, 4) (1000, 1)\n",
      "d = 3   \t greška testiranja = 9148.781000190027\n",
      "(1000, 5) (1000, 1)\n",
      "d = 4   \t greška testiranja = 9149.53279960382\n",
      "(1000, 6) (1000, 1)\n",
      "d = 5   \t greška testiranja = 9152.900835498182\n",
      "(1000, 7) (1000, 1)\n",
      "d = 6   \t greška testiranja = 9152.725913604181\n",
      "(1000, 8) (1000, 1)\n",
      "d = 7   \t greška testiranja = 9132.558697533694\n",
      "(1000, 9) (1000, 1)\n",
      "d = 8   \t greška testiranja = 9186.983139386732\n",
      "(1000, 10) (1000, 1)\n",
      "d = 9   \t greška testiranja = 9219.852912274077\n",
      "(1000, 11) (1000, 1)\n",
      "d = 10   \t greška testiranja = 9228.256536496408\n",
      "(1000, 12) (1000, 1)\n",
      "d = 11   \t greška testiranja = 9220.707196570344\n",
      "(1000, 13) (1000, 1)\n",
      "d = 12   \t greška testiranja = 9257.526762806792\n",
      "(1000, 14) (1000, 1)\n",
      "d = 13   \t greška testiranja = 9294.247136156022\n",
      "(1000, 15) (1000, 1)\n",
      "d = 14   \t greška testiranja = 9394.438506771903\n",
      "(1000, 16) (1000, 1)\n",
      "d = 15   \t greška testiranja = 9355.382159318144\n",
      "(1000, 17) (1000, 1)\n",
      "d = 16   \t greška testiranja = 9354.860665715323\n",
      "(1000, 18) (1000, 1)\n",
      "d = 17   \t greška testiranja = 9351.246139885787\n",
      "(1000, 19) (1000, 1)\n",
      "d = 18   \t greška testiranja = 9413.28287749346\n",
      "(1000, 20) (1000, 1)\n",
      "d = 19   \t greška testiranja = 9446.273662944603\n",
      "(1000, 21) (1000, 1)\n",
      "d = 20   \t greška testiranja = 9403.511240714786\n",
      "(1000, 2) (1000, 1)\n",
      "d = 1   \t greška testiranja = 53984.35039736855\n",
      "(1000, 3) (1000, 1)\n",
      "d = 2   \t greška testiranja = 53820.51686100572\n",
      "(1000, 4) (1000, 1)\n",
      "d = 3   \t greška testiranja = 44369.40204039123\n",
      "(1000, 5) (1000, 1)\n",
      "d = 4   \t greška testiranja = 44765.38835169445\n",
      "(1000, 6) (1000, 1)\n",
      "d = 5   \t greška testiranja = 44847.8199682992\n",
      "(1000, 7) (1000, 1)\n",
      "d = 6   \t greška testiranja = 44899.1051020203\n",
      "(1000, 8) (1000, 1)\n",
      "d = 7   \t greška testiranja = 44910.720470181106\n",
      "(1000, 9) (1000, 1)\n",
      "d = 8   \t greška testiranja = 44932.419050020115\n",
      "(1000, 10) (1000, 1)\n",
      "d = 9   \t greška testiranja = 45068.39517994808\n",
      "(1000, 11) (1000, 1)\n",
      "d = 10   \t greška testiranja = 45027.00445744056\n",
      "(1000, 12) (1000, 1)\n",
      "d = 11   \t greška testiranja = 45357.67451113607\n",
      "(1000, 13) (1000, 1)\n",
      "d = 12   \t greška testiranja = 45352.06551101863\n",
      "(1000, 14) (1000, 1)\n",
      "d = 13   \t greška testiranja = 45346.805709519766\n",
      "(1000, 15) (1000, 1)\n",
      "d = 14   \t greška testiranja = 45631.401795438374\n",
      "(1000, 16) (1000, 1)\n",
      "d = 15   \t greška testiranja = 45757.96994512712\n",
      "(1000, 17) (1000, 1)\n",
      "d = 16   \t greška testiranja = 45743.85558218135\n"
     ]
    },
    {
     "name": "stdout",
     "output_type": "stream",
     "text": [
      "(1000, 18) (1000, 1)\n",
      "d = 17   \t greška testiranja = 45779.80615807266\n",
      "(1000, 19) (1000, 1)\n",
      "d = 18   \t greška testiranja = 45957.16308095561\n",
      "(1000, 20) (1000, 1)\n",
      "d = 19   \t greška testiranja = 46095.00887709566\n",
      "(1000, 21) (1000, 1)\n",
      "d = 20   \t greška testiranja = 46014.022136490166\n",
      "(1000, 2) (1000, 1)\n",
      "d = 1   \t greška testiranja = 260721.52943735558\n",
      "(1000, 3) (1000, 1)\n",
      "d = 2   \t greška testiranja = 259485.72280021204\n",
      "(1000, 4) (1000, 1)\n",
      "d = 3   \t greška testiranja = 248592.18829962026\n",
      "(1000, 5) (1000, 1)\n",
      "d = 4   \t greška testiranja = 248972.42622062404\n",
      "(1000, 6) (1000, 1)\n",
      "d = 5   \t greška testiranja = 249189.73331561964\n",
      "(1000, 7) (1000, 1)\n",
      "d = 6   \t greška testiranja = 248746.27042934537\n",
      "(1000, 8) (1000, 1)\n",
      "d = 7   \t greška testiranja = 248706.1289382256\n",
      "(1000, 9) (1000, 1)\n",
      "d = 8   \t greška testiranja = 250597.884779913\n",
      "(1000, 10) (1000, 1)\n",
      "d = 9   \t greška testiranja = 250425.14259982662\n",
      "(1000, 11) (1000, 1)\n",
      "d = 10   \t greška testiranja = 250326.52158896305\n",
      "(1000, 12) (1000, 1)\n",
      "d = 11   \t greška testiranja = 252846.96994175873\n",
      "(1000, 13) (1000, 1)\n",
      "d = 12   \t greška testiranja = 252775.03586831238\n",
      "(1000, 14) (1000, 1)\n",
      "d = 13   \t greška testiranja = 252739.94747571094\n",
      "(1000, 15) (1000, 1)\n",
      "d = 14   \t greška testiranja = 254101.93990398175\n",
      "(1000, 16) (1000, 1)\n",
      "d = 15   \t greška testiranja = 254742.52867918037\n",
      "(1000, 17) (1000, 1)\n",
      "d = 16   \t greška testiranja = 255518.1523909209\n",
      "(1000, 18) (1000, 1)\n",
      "d = 17   \t greška testiranja = 256119.09191567072\n",
      "(1000, 19) (1000, 1)\n",
      "d = 18   \t greška testiranja = 259227.07900785582\n",
      "(1000, 20) (1000, 1)\n",
      "d = 19   \t greška testiranja = 260131.0849183412\n",
      "(1000, 21) (1000, 1)\n",
      "d = 20   \t greška testiranja = 265785.3289362416\n"
     ]
    },
    {
     "data": {
      "image/png": "[encoded data removed]",
      "text/plain": [
       "<Figure size 432x288 with 9 Axes>"
      ]
     },
     "metadata": {
      "needs_background": "light"
     },
     "output_type": "display_data"
    }
   ],
   "source": [
    "# Vaš kôd ovdje\n",
    "\n",
    "def MakeLabels(X, f, noise=0) :\n",
    "    if noise > 0:\n",
    "        return np.array([(f(x) + np.random.normal(0, noise)) for x in X])\n",
    "    return  np.array([f(x) for x in X])\n",
    "\n",
    "fun, plots = plt.subplots(3, 3)\n",
    "\n",
    "red=0\n",
    "stupac=0\n",
    "\n",
    "for N in [333,666,1000]:\n",
    "    for sigma in [100,200,500]:  \n",
    "        X3 = np.array([uniform(-5,5) for number in range(N)])\n",
    "        X3.sort()\n",
    "        X3 = X3.reshape(-1, 1)\n",
    "        function = f\n",
    "        y3 = MakeLabels(X3, function, sigma)\n",
    "        \n",
    "        model3c = LinearRegression()\n",
    "        gTrening = []\n",
    "        gTest = []\n",
    "        figure(1)        \n",
    "        for degree in range(1, 21):\n",
    "                \n",
    "            polynomial = PolynomialFeatures(degree)\n",
    "            𝚽3b = polynomial.fit_transform(X3)\n",
    "            print(shape(𝚽3b), shape(y3))\n",
    "    \n",
    "            Xtrain, Xtest, ytrain, ytest = train_test_split(𝚽3b, y3, test_size=0.5, random_state=0)\n",
    "    \n",
    "            model3c.fit(Xtrain, ytrain)\n",
    "\n",
    "            predikcije = model3c.predict(Xtrain)\n",
    "            gTrening.append(mean_squared_error(ytrain, predikcije))\n",
    "\n",
    "            predikcije = model3c.predict(Xtest)\n",
    "            gTest.append(mean_squared_error(ytest, predikcije))\n",
    "\n",
    "            print('d =', degree, '  \\t greška testiranja =', mean_squared_error(ytest, predikcije)) \n",
    "\n",
    "        plots[red,stupac].plot(log(gTrening), \"b\")\n",
    "        plots[red,stupac].plot(log(gTest),\"r\")\n",
    "        plots[red,stupac].set_title('N='+ str(N) + ' sigma=' + str(sigma))\n",
    "        stupac+=1\n",
    "        if stupac==3:\n",
    "            stupac=0\n",
    "            red+=1\n",
    "        if red==3:\n",
    "            red=0\n",
    "            \n",
    "\n",
    "plt.show()\n",
    "\n"
   ]
  },
  {
   "cell_type": "markdown",
   "metadata": {},
   "source": [
    "***Q:*** Jesu li rezultati očekivani? Obrazložite."
   ]
  },
  {
   "cell_type": "markdown",
   "metadata": {},
   "source": [
    "### 4. Regularizirana regresija"
   ]
  },
  {
   "cell_type": "markdown",
   "metadata": {},
   "source": [
    "### (a)\n",
    "\n",
    "U gornjim eksperimentima nismo koristili **regularizaciju**. Vratimo se najprije na primjer iz zadatka 1. Na primjerima iz tog zadatka izračunajte težine $\\mathbf{w}$ za polinomijalni regresijski model stupnja $d=3$ uz L2-regularizaciju (tzv. *ridge regression*), prema izrazu $\\mathbf{w}=(\\mathbf{\\Phi}^\\intercal\\mathbf{\\Phi}+\\lambda\\mathbf{I})^{-1}\\mathbf{\\Phi}^\\intercal\\mathbf{y}$. Napravite izračun težina za regularizacijske faktore $\\lambda=0$, $\\lambda=1$ i $\\lambda=10$ te usporedite dobivene težine.\n",
    "\n",
    "**Q:** Kojih je dimenzija matrica koju treba invertirati?\n",
    "\n",
    "**Q:** Po čemu se razlikuju dobivene težine i je li ta razlika očekivana? Obrazložite."
   ]
  },
  {
   "cell_type": "code",
   "execution_count": 58,
   "metadata": {},
   "outputs": [
    {
     "name": "stdout",
     "output_type": "stream",
     "text": [
      "matrica fi =  [[ 1.  0.  0.  0.]\n",
      " [ 1.  1.  1.  1.]\n",
      " [ 1.  2.  4.  8.]\n",
      " [ 1.  4. 16. 64.]]\n",
      "Za 𝜆 =  0 tezine w su : [ 4.         -5.91666667  3.375      -0.45833333]\n",
      "Za 𝜆 =  1 tezine w su : [ 3.05696145 -0.69079365 -0.2831746   0.1445805 ]\n",
      "Za 𝜆 =  10 tezine w su : [ 2.49444184 -0.15897295 -0.13423067  0.0815601 ]\n"
     ]
    }
   ],
   "source": [
    "# Vaš kôd ovdje\n",
    "\n",
    "poly = PolynomialFeatures(3)\n",
    "𝚽 = poly.fit_transform(X)\n",
    "print('matrica fi = ',𝚽)\n",
    "\n",
    "𝚽T𝚽= np.dot(𝚽.transpose(), 𝚽)\n",
    "\n",
    "I=np.identity(len(𝚽))\n",
    "I[0][0] = 0\n",
    "\n",
    "for 𝜆 in [0,1,10]:\n",
    "    𝚽T𝚽inv = np.linalg.inv(𝚽T𝚽 + np.dot(𝜆, I))\n",
    "    w = np.dot(𝚽T𝚽inv, 𝚽.transpose())\n",
    "    w = np.dot(w, y)\n",
    "    print('Za 𝜆 = ', 𝜆, 'tezine w su :', w)\n",
    "\n"
   ]
  },
  {
   "cell_type": "markdown",
   "metadata": {},
   "source": [
    "### (b)"
   ]
  },
  {
   "cell_type": "markdown",
   "metadata": {},
   "source": [
    "Proučite klasu [`Ridge`](http://scikit-learn.org/stable/modules/generated/sklearn.linear_model.Ridge.html#sklearn.linear_model.Ridge) iz modula [`sklearn.linear_model`](http://scikit-learn.org/stable/modules/classes.html#module-sklearn.linear_model), koja implementira L2-regularizirani regresijski model. Parametar $\\alpha$ odgovara parametru $\\lambda$. Primijenite model na istim primjerima kao u prethodnom zadatku i ispišite težine $\\mathbf{w}$ (atributi `coef_` i `intercept_`).\n",
    "\n",
    "**Q:** Jesu li težine identične onima iz zadatka 4a? Ako nisu, objasnite zašto je to tako i kako biste to popravili."
   ]
  },
  {
   "cell_type": "code",
   "execution_count": 59,
   "metadata": {},
   "outputs": [],
   "source": [
    "from sklearn.linear_model import Ridge"
   ]
  },
  {
   "cell_type": "code",
   "execution_count": 60,
   "metadata": {},
   "outputs": [
    {
     "name": "stdout",
     "output_type": "stream",
     "text": [
      "za l = 0 \t w0 = 4.000000000000025 \t wi: [ 0.         -5.91666667  3.375      -0.45833333]\n",
      "za l = 1 \t w0 = 3.0569614512471652 \t wi: [ 0.         -0.69079365 -0.2831746   0.1445805 ]\n",
      "za l = 10 \t w0 = 2.4944418431229733 \t wi: [ 0.         -0.15897295 -0.13423067  0.0815601 ]\n"
     ]
    }
   ],
   "source": [
    "# Vaš kôd ovdje\n",
    "\n",
    "for 𝜆 in [0,1,10]:\n",
    "    𝛼=𝜆\n",
    "    model4 = Ridge(𝛼)\n",
    "    model4.fit(𝚽, y)\n",
    "    predikcije = model4.predict(𝚽)\n",
    "    gTrening = mean_squared_error(predikcije, y)\n",
    "    print('za l =', 𝜆, '\\t', 'w0 =', model4.intercept_, '\\t', 'wi:', model4.coef_) \n"
   ]
  },
  {
   "cell_type": "markdown",
   "metadata": {},
   "source": [
    "### 5. Regularizirana polinomijalna regresija"
   ]
  },
  {
   "cell_type": "markdown",
   "metadata": {},
   "source": [
    "### (a)\n",
    "\n",
    "Vratimo se na slučaj $N=50$ slučajno generiranih primjera iz zadatka 2. Trenirajte modele polinomijalne regresije $\\mathcal{H}_{\\lambda,d}$ za $\\lambda\\in\\{0,100\\}$ i $d\\in\\{2,10\\}$ (ukupno četiri modela). Skicirajte pripadne funkcije $h(\\mathbf{x})$ i primjere (na jednom grafikonu; preporučujemo koristiti `plot` unutar `for` petlje).\n",
    "\n",
    "**Q:** Jesu li rezultati očekivani? Obrazložite."
   ]
  },
  {
   "cell_type": "code",
   "execution_count": 61,
   "metadata": {},
   "outputs": [
    {
     "data": {
      "image/png": "[encoded data removed]",
      "text/plain": [
       "<Figure size 432x288 with 1 Axes>"
      ]
     },
     "metadata": {
      "needs_background": "light"
     },
     "output_type": "display_data"
    }
   ],
   "source": [
    "# Vaš kôd ovdje\n",
    "from numpy.random import normal\n",
    "\n",
    "#primjeri iz drugog zadatka\n",
    "X5=X2a\n",
    "Y5=Y2a\n",
    "\n",
    "for 𝜆 in [0, 100]:\n",
    "    for degree in [2, 10]:\n",
    "        𝛼=𝜆\n",
    "        model5 = Ridge(𝛼)\n",
    "        poly = PolynomialFeatures(degree)\n",
    "        𝚽 = poly.fit_transform(X5)\n",
    "        model5.fit(𝚽, Y5)\n",
    "        predikcije = model5.predict(𝚽)\n",
    "        gTrening = mean_squared_error(predikcije, Y5)\n",
    "        \n",
    "        #print h fja i primjeri\n",
    "        plot(X5,predikcije)\n",
    "        scatter(X5, Y5)\n",
    "        \n",
    "                "
   ]
  },
  {
   "cell_type": "markdown",
   "metadata": {},
   "source": [
    "### (b)\n",
    "\n",
    "Kao u zadataku 3b, razdvojite primjere na skup za učenje i skup za ispitivanje u omjeru 1:1. Prikažite krivulje logaritama pogreške učenja i ispitne pogreške u ovisnosti za model $\\mathcal{H}_{d=10,\\lambda}$, podešavajući faktor regularizacije $\\lambda$ u rasponu $\\lambda\\in\\{0,1,\\dots,50\\}$.\n",
    "\n",
    "**Q:** Kojoj strani na grafikonu odgovara područje prenaučenosti, a kojoj podnaučenosti? Zašto?\n",
    "\n",
    "**Q:** Koju biste vrijednosti za $\\lambda$ izabrali na temelju ovih grafikona i zašto?\n"
   ]
  },
  {
   "cell_type": "code",
   "execution_count": 62,
   "metadata": {},
   "outputs": [
    {
     "name": "stdout",
     "output_type": "stream",
     "text": [
      "𝜆 = 0   \t greška testiranja = 1312097.3316298379\n",
      "𝜆 = 1   \t greška testiranja = 296483.463136646\n",
      "𝜆 = 2   \t greška testiranja = 236102.12855843996\n",
      "𝜆 = 3   \t greška testiranja = 205474.16583253825\n",
      "𝜆 = 4   \t greška testiranja = 185806.38302933917\n",
      "𝜆 = 5   \t greška testiranja = 173076.8042437645\n",
      "𝜆 = 6   \t greška testiranja = 163315.09188444138\n",
      "𝜆 = 7   \t greška testiranja = 156474.2533741125\n",
      "𝜆 = 8   \t greška testiranja = 150676.32684389493\n",
      "𝜆 = 9   \t greška testiranja = 146054.11379816587\n",
      "𝜆 = 10   \t greška testiranja = 142247.88398555762\n",
      "𝜆 = 11   \t greška testiranja = 138903.3731879245\n",
      "𝜆 = 12   \t greška testiranja = 136271.214429623\n",
      "𝜆 = 13   \t greška testiranja = 133873.6888017029\n",
      "𝜆 = 14   \t greška testiranja = 131821.13685867298\n",
      "𝜆 = 15   \t greška testiranja = 130035.13191237075\n",
      "𝜆 = 16   \t greška testiranja = 128295.45818207454\n",
      "𝜆 = 17   \t greška testiranja = 126827.42518223837\n",
      "𝜆 = 18   \t greška testiranja = 125542.66711497125\n",
      "𝜆 = 19   \t greška testiranja = 124337.55835500035\n",
      "𝜆 = 20   \t greška testiranja = 123231.44667118533\n",
      "𝜆 = 21   \t greška testiranja = 122223.076476975\n",
      "𝜆 = 22   \t greška testiranja = 121237.78573678702\n",
      "𝜆 = 23   \t greška testiranja = 120355.68093706027\n",
      "𝜆 = 24   \t greška testiranja = 119598.48659682611\n",
      "𝜆 = 25   \t greška testiranja = 118809.5171812123\n",
      "𝜆 = 26   \t greška testiranja = 118119.97903123213\n",
      "𝜆 = 27   \t greška testiranja = 117500.05260522683\n",
      "𝜆 = 28   \t greška testiranja = 116854.06195224833\n",
      "𝜆 = 29   \t greška testiranja = 116264.44463178368\n",
      "𝜆 = 30   \t greška testiranja = 115735.02677385826\n",
      "𝜆 = 31   \t greška testiranja = 115212.12260037228\n",
      "𝜆 = 32   \t greška testiranja = 114666.9216143549\n",
      "𝜆 = 33   \t greška testiranja = 114226.90635892056\n",
      "𝜆 = 34   \t greška testiranja = 113756.22198792774\n",
      "𝜆 = 35   \t greška testiranja = 113345.38163490927\n",
      "𝜆 = 36   \t greška testiranja = 112899.33886648068\n",
      "𝜆 = 37   \t greška testiranja = 112504.31620858045\n",
      "𝜆 = 38   \t greška testiranja = 112102.69761438487\n",
      "𝜆 = 39   \t greška testiranja = 111743.12851331121\n",
      "𝜆 = 40   \t greška testiranja = 111393.543972218\n",
      "𝜆 = 41   \t greška testiranja = 111061.99232181357\n",
      "𝜆 = 42   \t greška testiranja = 110737.20147428568\n",
      "𝜆 = 43   \t greška testiranja = 110389.28442077998\n",
      "𝜆 = 44   \t greška testiranja = 110099.42889440607\n",
      "𝜆 = 45   \t greška testiranja = 109761.03992477027\n",
      "𝜆 = 46   \t greška testiranja = 109487.17174501662\n",
      "𝜆 = 47   \t greška testiranja = 109196.87181025243\n",
      "𝜆 = 48   \t greška testiranja = 108912.74586061543\n",
      "𝜆 = 49   \t greška testiranja = 108645.77935254633\n",
      "𝜆 = 50   \t greška testiranja = 108372.52122647839\n"
     ]
    },
    {
     "data": {
      "text/plain": [
       "[<matplotlib.lines.Line2D at 0x27f5386ed88>]"
      ]
     },
     "execution_count": 62,
     "metadata": {},
     "output_type": "execute_result"
    },
    {
     "data": {
      "image/png": "[encoded data removed]",
      "text/plain": [
       "<Figure size 432x288 with 1 Axes>"
      ]
     },
     "metadata": {
      "needs_background": "light"
     },
     "output_type": "display_data"
    },
    {
     "data": {
      "image/png": "[encoded data removed]",
      "text/plain": [
       "<Figure size 432x288 with 1 Axes>"
      ]
     },
     "metadata": {
      "needs_background": "light"
     },
     "output_type": "display_data"
    }
   ],
   "source": [
    "# Vaš kôd ovdje\n",
    "X3=X2a;\n",
    "Y3=Y2a;\n",
    "\n",
    "gTrening = []\n",
    "gTest = []\n",
    "degree=20\n",
    "polynomial = PolynomialFeatures(degree)\n",
    "𝚽 = polynomial.fit_transform(X3)\n",
    "\n",
    "for 𝜆  in range(0, 51) :\n",
    "    \n",
    "    𝛼=𝜆\n",
    "    model5b = Ridge(𝛼) \n",
    "    Xtrain, Xtest, ytrain, ytest = train_test_split(𝚽, Y3, test_size=0.5, random_state=0)\n",
    "    \n",
    "    model5b.fit(Xtrain, ytrain)\n",
    "    \n",
    "    predikcije = model5b.predict(Xtrain)\n",
    "    gTrening.append(mean_squared_error(ytrain, predikcije))\n",
    "\n",
    "    predikcije = model5b.predict(Xtest)\n",
    "    gTest.append(mean_squared_error(ytest, predikcije))\n",
    "\n",
    "    print('𝜆 =', 𝜆, '  \\t greška testiranja =', mean_squared_error(ytest, predikcije))  \n",
    "    \n",
    "    figure(1)\n",
    "    model5b.fit(𝚽, Y3)\n",
    "    predictions = model5b.predict(𝚽)\n",
    "    plot(predictions)\n",
    "    \n",
    "    \n",
    "figure(2)\n",
    "plot(log(gTrening), \"b\")\n",
    "plot(log(gTest), \"r\")\n"
   ]
  },
  {
   "cell_type": "markdown",
   "metadata": {},
   "source": [
    "### 6. L1-regularizacija i L2-regularizacija"
   ]
  },
  {
   "cell_type": "markdown",
   "metadata": {},
   "source": [
    "Svrha regularizacije jest potiskivanje težina modela $\\mathbf{w}$ prema nuli, kako bi model bio što jednostavniji. Složenost modela može se okarakterizirati normom pripadnog vektora težina $\\mathbf{w}$, i to tipično L2-normom ili L1-normom. Za jednom trenirani model možemo izračunati i broj ne-nul značajki, ili L0-normu, pomoću sljedeće funkcije koja prima vektor težina $\\mathbf{w}$:"
   ]
  },
  {
   "cell_type": "code",
   "execution_count": 63,
   "metadata": {},
   "outputs": [],
   "source": [
    "def nonzeroes(coef, tol=1e-6): \n",
    "    return len(coef) - len(coef[np.isclose(0, coef, atol=tol)])"
   ]
  },
  {
   "cell_type": "markdown",
   "metadata": {},
   "source": [
    "### (a)\n",
    "\n",
    "Za ovaj zadatak upotrijebite skup za učenje i skup za testiranje iz zadatka 3b. Trenirajte modele **L2-regularizirane** polinomijalne regresije stupnja $d=10$, mijenjajući hiperparametar $\\lambda$ u rasponu $\\{1,2,\\dots,100\\}$. Za svaki od treniranih modela izračunajte L{0,1,2}-norme vektora težina $\\mathbf{w}$ te ih prikažite kao funkciju od $\\lambda$. Pripazite što točno šaljete u funkciju za izračun normi.\n",
    "\n",
    "**Q:** Objasnite oblik obiju krivulja. Hoće li krivulja za $\\|\\mathbf{w}\\|_2$ doseći nulu? Zašto? Je li to problem? Zašto?\n",
    "\n",
    "**Q:** Za $\\lambda=100$, koliki je postotak težina modela jednak nuli, odnosno koliko je model rijedak?"
   ]
  },
  {
   "cell_type": "code",
   "execution_count": 64,
   "metadata": {},
   "outputs": [
    {
     "data": {
      "text/plain": [
       "[<matplotlib.lines.Line2D at 0x27f5529ee48>]"
      ]
     },
     "execution_count": 64,
     "metadata": {},
     "output_type": "execute_result"
    },
    {
     "data": {
      "image/png": "[encoded data removed]",
      "text/plain": [
       "<Figure size 432x288 with 1 Axes>"
      ]
     },
     "metadata": {
      "needs_background": "light"
     },
     "output_type": "display_data"
    }
   ],
   "source": [
    "# Vaš kôd ovdje\n",
    "degree = 10\n",
    "polynomial = PolynomialFeatures(degree)\n",
    "𝚽 = polynomial.fit_transform(X3)\n",
    "Xtrain, Xtest, ytrain, ytest = train_test_split(𝚽, Y3, test_size=0.5, random_state=0)\n",
    "\n",
    "L0 = np.zeros(100)\n",
    "L1 = np.zeros(100)\n",
    "L2 = np.zeros(100)\n",
    "\n",
    "for 𝜆 in range(1,101):\n",
    "    𝛼=𝜆    \n",
    "    model6 = Ridge(𝛼)\n",
    "    model6.fit(Xtrain, ytrain)\n",
    "    w = model6.coef_\n",
    "    L0[𝜆-1] = nonzeroes(w)\n",
    "    L1[𝜆-1] = norm(w,1)\n",
    "    L2[𝜆-1] = norm(w,2)\n",
    "   \n",
    "plt.plot(range(1,101), L0, \"r\")\n",
    "plt.plot(range(1,101), L1, \"b\") \n",
    "plt.plot(range(1,101), L2, \"g\")\n"
   ]
  },
  {
   "cell_type": "markdown",
   "metadata": {},
   "source": [
    "### (b)"
   ]
  },
  {
   "cell_type": "markdown",
   "metadata": {},
   "source": [
    "Glavna prednost L1-regularizirane regresije (ili *LASSO regression*) nad L2-regulariziranom regresijom jest u tome što L1-regularizirana regresija rezultira **rijetkim modelima** (engl. *sparse models*), odnosno modelima kod kojih su mnoge težine pritegnute na nulu. Pokažite da je to doista tako, ponovivši gornji eksperiment s **L1-regulariziranom** regresijom, implementiranom u klasi  [`Lasso`](http://scikit-learn.org/stable/modules/generated/sklearn.linear_model.Lasso.html) u modulu [`sklearn.linear_model`](http://scikit-learn.org/stable/modules/classes.html#module-sklearn.linear_model). Zanemarite upozorenja."
   ]
  },
  {
   "cell_type": "code",
   "execution_count": 65,
   "metadata": {},
   "outputs": [
    {
     "data": {
      "text/plain": [
       "[<matplotlib.lines.Line2D at 0x27f5530bd88>]"
      ]
     },
     "execution_count": 65,
     "metadata": {},
     "output_type": "execute_result"
    },
    {
     "data": {
      "image/png": "[encoded data removed]",
      "text/plain": [
       "<Figure size 432x288 with 1 Axes>"
      ]
     },
     "metadata": {
      "needs_background": "light"
     },
     "output_type": "display_data"
    }
   ],
   "source": [
    "# Vaš kôd ovdje\n",
    "from sklearn.linear_model import Lasso\n",
    "\n",
    "degree = 10\n",
    "polynomial = PolynomialFeatures(degree)\n",
    "𝚽 = polynomial.fit_transform(X3)\n",
    "Xtrain, Xtest, ytrain, ytest = train_test_split(𝚽, Y3, test_size=0.5, random_state=0)\n",
    "\n",
    "L0 = np.zeros(100)\n",
    "L1 = np.zeros(100)\n",
    "L2 = np.zeros(100)\n",
    "\n",
    "for 𝜆 in range(1,101):\n",
    "    𝛼=𝜆    \n",
    "    model6 = Lasso(𝛼)\n",
    "    modelReg=model6.fit(Xtrain, ytrain)\n",
    "    w = modelReg.coef_\n",
    "    L0[𝜆-1] = nonzeroes(w)\n",
    "    L1[𝜆-1] = norm(w,1)\n",
    "    L2[𝜆-1] = norm(w,2)\n",
    "   \n",
    "plt.plot(range(1,101), L0, \"r\")\n",
    "plt.plot(range(1,101), L1, \"b\") \n",
    "plt.plot(range(1,101), L2, \"g\")\n"
   ]
  },
  {
   "cell_type": "markdown",
   "metadata": {},
   "source": [
    "### 7. Značajke različitih skala"
   ]
  },
  {
   "cell_type": "markdown",
   "metadata": {},
   "source": [
    "Često se u praksi možemo susreti sa podatcima u kojima sve značajke nisu jednakih magnituda. Primjer jednog takvog skupa je regresijski skup podataka `grades` u kojem se predviđa prosjek ocjena studenta na studiju (1--5) na temelju dvije značajke: bodova na prijamnom ispitu (1--3000) i prosjeka ocjena u srednjoj školi. Prosjek ocjena na studiju izračunat je kao težinska suma ove dvije značajke uz dodani šum.\n",
    "\n",
    "Koristite sljedeći kôd kako biste generirali ovaj skup podataka."
   ]
  },
  {
   "cell_type": "code",
   "execution_count": 66,
   "metadata": {},
   "outputs": [],
   "source": [
    "n_data_points = 500\n",
    "np.random.seed(69)\n",
    "\n",
    "# Generiraj podatke o bodovima na prijamnom ispitu koristeći normalnu razdiobu i ograniči ih na interval [1, 3000].\n",
    "exam_score = np.random.normal(loc=1500.0, scale = 500.0, size = n_data_points) \n",
    "exam_score = np.round(exam_score)\n",
    "exam_score[exam_score > 3000] = 3000\n",
    "exam_score[exam_score < 0] = 0\n",
    "\n",
    "# Generiraj podatke o ocjenama iz srednje škole koristeći normalnu razdiobu i ograniči ih na interval [1, 5].\n",
    "grade_in_highschool = np.random.normal(loc=3, scale = 2.0, size = n_data_points)\n",
    "grade_in_highschool[grade_in_highschool > 5] = 5\n",
    "grade_in_highschool[grade_in_highschool < 1] = 1\n",
    "\n",
    "# Matrica dizajna.\n",
    "grades_X = np.array([exam_score,grade_in_highschool]).T\n",
    "\n",
    "# Završno, generiraj izlazne vrijednosti.\n",
    "rand_noise = np.random.normal(loc=0.0, scale = 0.5, size = n_data_points)\n",
    "exam_influence = 0.9\n",
    "grades_y = ((exam_score / 3000.0) * (exam_influence) + (grade_in_highschool / 5.0) \\\n",
    "            * (1.0 - exam_influence)) * 5.0 + rand_noise\n",
    "grades_y[grades_y < 1] = 1\n",
    "grades_y[grades_y > 5] = 5"
   ]
  },
  {
   "cell_type": "markdown",
   "metadata": {},
   "source": [
    "**a)** Iscrtajte ovisnost ciljne vrijednosti (y-os) o prvoj i o drugoj značajki (x-os). Iscrtajte dva odvojena grafa."
   ]
  },
  {
   "cell_type": "code",
   "execution_count": 67,
   "metadata": {},
   "outputs": [
    {
     "data": {
      "text/plain": [
       "<matplotlib.collections.PathCollection at 0x27f5536f888>"
      ]
     },
     "execution_count": 67,
     "metadata": {},
     "output_type": "execute_result"
    },
    {
     "data": {
      "image/png": "[encoded data removed]",
      "text/plain": [
       "<Figure size 432x288 with 1 Axes>"
      ]
     },
     "metadata": {
      "needs_background": "light"
     },
     "output_type": "display_data"
    }
   ],
   "source": [
    "# Vaš kôd ovdje\n",
    "plt.scatter(exam_score, grades_y)\n",
    "\n"
   ]
  },
  {
   "cell_type": "code",
   "execution_count": 68,
   "metadata": {},
   "outputs": [
    {
     "data": {
      "text/plain": [
       "<matplotlib.collections.PathCollection at 0x27f5691e188>"
      ]
     },
     "execution_count": 68,
     "metadata": {},
     "output_type": "execute_result"
    },
    {
     "data": {
      "image/png": "[encoded data removed]",
      "text/plain": [
       "<Figure size 432x288 with 1 Axes>"
      ]
     },
     "metadata": {
      "needs_background": "light"
     },
     "output_type": "display_data"
    }
   ],
   "source": [
    "plt.scatter(grade_in_highschool, grades_y)"
   ]
  },
  {
   "cell_type": "markdown",
   "metadata": {},
   "source": [
    "**b)** Naučite model L2-regularizirane regresije ($\\lambda = 0.01$), na podacima `grades_X` i `grades_y`:"
   ]
  },
  {
   "cell_type": "code",
   "execution_count": 69,
   "metadata": {},
   "outputs": [
    {
     "name": "stdout",
     "output_type": "stream",
     "text": [
      "w0 =  0.15061179575776018 \twi =  [0.00141497 0.09477276]\n"
     ]
    }
   ],
   "source": [
    "# Vaš kôd ovdje\n",
    "𝜆=0.01\n",
    "𝛼=𝜆   \n",
    "model = Ridge(𝛼)\n",
    "model.fit(grades_X, grades_y)\n",
    "w0 = model.intercept_\n",
    "wi = model.coef_\n",
    "print('w0 = ', w0, '\\twi = ', wi)\n"
   ]
  },
  {
   "cell_type": "markdown",
   "metadata": {},
   "source": [
    "Sada ponovite gornji eksperiment, ali prvo skalirajte podatke `grades_X` i `grades_y` i spremite ih u varijable `grades_X_fixed` i `grades_y_fixed`. Za tu svrhu, koristite [`StandardScaler`](http://scikit-learn.org/stable/modules/generated/sklearn.preprocessing.StandardScaler.html)."
   ]
  },
  {
   "cell_type": "code",
   "execution_count": 70,
   "metadata": {},
   "outputs": [],
   "source": [
    "from sklearn.preprocessing import StandardScaler"
   ]
  },
  {
   "cell_type": "code",
   "execution_count": 80,
   "metadata": {},
   "outputs": [
    {
     "name": "stdout",
     "output_type": "stream",
     "text": [
      "w0 =  [8.62551331e-17] \twi =  [[0.81630375 0.15167761]]\n"
     ]
    }
   ],
   "source": [
    "# Vaš kôd ovdje\n",
    "scale = StandardScaler()\n",
    "grades_X_fixed = scale.fit_transform(grades_X)\n",
    "grades_y_fixed = scale.fit_transform(grades_y.reshape(-1,1))\n",
    "\n",
    "\n",
    "𝜆=0.01\n",
    "𝛼=𝜆   \n",
    "model = Ridge(𝛼)\n",
    "model.fit(grades_X_fixed, grades_y_fixed)\n",
    "#model.fit(grades_X_fixed, grades_y)\n",
    "\n",
    "w0 = model.intercept_\n",
    "wi = model.coef_\n",
    "print('w0 = ', w0, '\\twi = ', wi)"
   ]
  },
  {
   "cell_type": "markdown",
   "metadata": {},
   "source": [
    "**Q:** Gledajući grafikone iz podzadatka (a), koja značajka bi trebala imati veću magnitudu, odnosno važnost pri predikciji prosjeka na studiju? Odgovaraju li težine Vašoj intuiciji? Objasnite.  "
   ]
  },
  {
   "cell_type": "markdown",
   "metadata": {},
   "source": [
    "### 8. Multikolinearnost i kondicija matrice"
   ]
  },
  {
   "cell_type": "markdown",
   "metadata": {},
   "source": [
    "**a)** Izradite skup podataka `grades_X_fixed_colinear` tako što ćete u skupu `grades_X_fixed` iz\n",
    "zadatka *7b* duplicirati zadnji stupac (ocjenu iz srednje škole). Time smo efektivno uveli savršenu multikolinearnost."
   ]
  },
  {
   "cell_type": "code",
   "execution_count": 72,
   "metadata": {},
   "outputs": [
    {
     "name": "stdout",
     "output_type": "stream",
     "text": [
      "[[ 0.95063817 -0.78607869 -0.78607869]\n",
      " [-0.50343434 -0.50193004 -0.50193004]\n",
      " [ 1.18596832 -0.52213172 -0.52213172]\n",
      " ...\n",
      " [-0.31593552  0.80074234  0.80074234]\n",
      " [ 0.81288393  1.24783236  1.24783236]\n",
      " [-0.01938126  1.21729714  1.21729714]]\n"
     ]
    }
   ],
   "source": [
    "# Vaš kôd ovdje\n",
    "grades_X_fixed_colinear=np.hstack((grades_X_fixed, np.tile(grades_X_fixed[:, [-1]], 1)))\n",
    "print(grades_X_fixed_colinear)"
   ]
  },
  {
   "cell_type": "markdown",
   "metadata": {},
   "source": [
    "Ponovno, naučite na ovom skupu L2-regularizirani model regresije ($\\lambda = 0.01$)."
   ]
  },
  {
   "cell_type": "code",
   "execution_count": 73,
   "metadata": {},
   "outputs": [
    {
     "name": "stdout",
     "output_type": "stream",
     "text": [
      "w0 =  [8.6255971e-17] \twi =  [[0.81630364 0.07583957 0.07583957]]\n"
     ]
    }
   ],
   "source": [
    "# Vaš kôd ovdje\n",
    "𝜆=0.01\n",
    "𝛼=𝜆   \n",
    "model8 = Ridge(𝛼)\n",
    "model8.fit(grades_X_fixed_colinear, grades_y_fixed)\n",
    "w0 = model8.intercept_\n",
    "wi = model8.coef_\n",
    "print('w0 = ', w0, '\\twi = ', wi)"
   ]
  },
  {
   "cell_type": "markdown",
   "metadata": {},
   "source": [
    "**Q:** Usporedite iznose težina s onima koje ste dobili u zadatku *7b*. Što se dogodilo?"
   ]
  },
  {
   "cell_type": "markdown",
   "metadata": {},
   "source": [
    "**b)** Slučajno uzorkujte 50% elemenata iz skupa `grades_X_fixed_colinear` i naučite dva modela L2-regularizirane regresije, jedan s $\\lambda=0.01$ i jedan s $\\lambda=1000$). Ponovite ovaj pokus 10 puta (svaki put s drugim podskupom od 50% elemenata).  Za svaki model, ispišite dobiveni vektor težina u svih 10 ponavljanja te ispišite standardnu devijaciju vrijednosti svake od težina (ukupno šest standardnih devijacija, svaka dobivena nad 10 vrijednosti)."
   ]
  },
  {
   "cell_type": "code",
   "execution_count": 86,
   "metadata": {},
   "outputs": [
    {
     "name": "stdout",
     "output_type": "stream",
     "text": [
      "i = 1 \n",
      "za 𝜆 = 0.01 => wi = [0.85218468 0.07143648 0.07143648] \tza 𝜆 = 1000 => wi = [0.16438262 0.02928095 0.02928095]\n",
      "i = 2 \n",
      "za 𝜆 = 0.01 => wi = [0.82379539 0.07266342 0.07266342] \tza 𝜆 = 1000 => wi = [0.17254636 0.02916032 0.02916032]\n",
      "i = 3 \n",
      "za 𝜆 = 0.01 => wi = [0.83680107 0.08883276 0.08883276] \tza 𝜆 = 1000 => wi = [0.16172126 0.04199653 0.04199653]\n",
      "i = 4 \n",
      "za 𝜆 = 0.01 => wi = [0.81034512 0.06146601 0.06146601] \tza 𝜆 = 1000 => wi = [0.17334407 0.03786333 0.03786333]\n",
      "i = 5 \n",
      "za 𝜆 = 0.01 => wi = [0.84312793 0.0746864  0.0746864 ] \tza 𝜆 = 1000 => wi = [0.15807199 0.02918321 0.02918321]\n",
      "i = 6 \n",
      "za 𝜆 = 0.01 => wi = [0.77403941 0.0779534  0.0779534 ] \tza 𝜆 = 1000 => wi = [0.1621132  0.03381768 0.03381768]\n",
      "i = 7 \n",
      "za 𝜆 = 0.01 => wi = [0.79996289 0.08608997 0.08608997] \tza 𝜆 = 1000 => wi = [0.17251522 0.039718   0.039718  ]\n",
      "i = 8 \n",
      "za 𝜆 = 0.01 => wi = [0.81392794 0.08398315 0.08398315] \tza 𝜆 = 1000 => wi = [0.16177778 0.03757547 0.03757547]\n",
      "i = 9 \n",
      "za 𝜆 = 0.01 => wi = [0.80058186 0.08277368 0.08277368] \tza 𝜆 = 1000 => wi = [0.15162174 0.04037596 0.04037596]\n",
      "i = 10 \n",
      "za 𝜆 = 0.01 => wi = [0.82913293 0.07446386 0.07446386] \tza 𝜆 = 1000 => wi = [0.15851345 0.0410355  0.0410355 ]\n",
      "\n",
      "standardne devijacije za 𝜆 = 0.01 :\n",
      " 0.02223945677896556 0.0077884972347213675 0.007788497234158753\n",
      "\n",
      "standardne devijacije za 𝜆 = 1000 :\n",
      " 0.006811843415886753 0.004933551613096993 0.004933551613096993\n"
     ]
    }
   ],
   "source": [
    "# Vaš kôd ovdje\n",
    "\n",
    "n=len(grades_y)/2\n",
    "tezine1=[]\n",
    "tezine2=[]\n",
    "\n",
    "w11=[]\n",
    "w12=[]\n",
    "w13=[]\n",
    "\n",
    "w21=[]\n",
    "w22=[]\n",
    "w23=[]\n",
    "\n",
    "y_resh=grades_y_fixed.ravel()\n",
    "\n",
    "for i in range(1, 11):\n",
    "    \n",
    "    index = np.random.choice(grades_X_fixed_colinear.shape[0], round(n), replace=False) \n",
    "    x_random = grades_X_fixed_colinear[index]\n",
    "    \n",
    "    y_random = y_resh[index]\n",
    "    \n",
    "    model1 = Ridge(0.01)\n",
    "    model1.fit(x_random, y_random)\n",
    "    model2 = Ridge(1000)\n",
    "    model2.fit(x_random, y_random)\n",
    "    tezine1.append(model1.coef_)\n",
    "    tezine2.append(model2.coef_)\n",
    "    \n",
    "    w11.append(model1.coef_[0])\n",
    "    w12.append(model1.coef_[1])\n",
    "    w13.append(model1.coef_[2])\n",
    "    \n",
    "    w21.append(model2.coef_[0])\n",
    "    w22.append(model2.coef_[1])\n",
    "    w23.append(model2.coef_[2])\n",
    "\n",
    "    print('i =', i, '\\nza 𝜆 = 0.01 => wi =', model1.coef_,  '\\tza 𝜆 = 1000 => wi =', model2.coef_),\n",
    "\n",
    "print()\n",
    "print('standardne devijacije za 𝜆 = 0.01 :\\n', np.std(w11), np.std(w12), np.std(w13))\n",
    "print()\n",
    "print('standardne devijacije za 𝜆 = 1000 :\\n', np.std(w21), np.std(w22), np.std(w23))\n",
    "\n",
    "    \n",
    "    #sest tezina za dvije lambde i tri tezine\n",
    "    \n",
    "    \n"
   ]
  },
  {
   "cell_type": "markdown",
   "metadata": {},
   "source": [
    "**Q:** Kako regularizacija utječe na stabilnost težina?  \n",
    "**Q:** Jesu li koeficijenti jednakih magnituda kao u prethodnom pokusu? Objasnite zašto."
   ]
  },
  {
   "cell_type": "markdown",
   "metadata": {},
   "source": [
    "**c)** Koristeći [`numpy.linalg.cond`](https://docs.scipy.org/doc/numpy-1.13.0/reference/generated/numpy.linalg.cond.html) izračunajte kondicijski broj matrice $\\mathbf{\\Phi}^\\intercal\\mathbf{\\Phi}+\\lambda\\mathbf{I}$, gdje je $\\mathbf{\\Phi}$ matrica dizajna (`grades_X_fixed_colinear`). Ponovite i za $\\lambda=0.01$ i za $\\lambda=10$.\n"
   ]
  },
  {
   "cell_type": "code",
   "execution_count": null,
   "metadata": {},
   "outputs": [],
   "source": [
    "# Vaš kôd ovdje\n",
    "\n",
    "𝚽T = grades_X_fixed_colinear.transpose()\n",
    "𝚽T𝚽 = np.dot(𝚽T, grades_X_fixed_colinear)\n",
    "\n",
    "I = np.eye(len(𝚽T𝚽))\n",
    "𝜆=0.01\n",
    "print('za 𝜆 =', 𝜆, '\\t kondicijski broj matrice : ', np.linalg.cond(𝚽T𝚽 + np.dot(𝜆, I)))\n",
    "𝜆=10\n",
    "print('za 𝜆 =', 𝜆, '\\t kondicijski broj matrice : ', np.linalg.cond(𝚽T𝚽 + np.dot(𝜆, I)))\n"
   ]
  },
  {
   "cell_type": "markdown",
   "metadata": {},
   "source": [
    "**Q:** Kako regularizacija utječe na kondicijski broj matrice $\\mathbf{\\Phi}^\\intercal\\mathbf{\\Phi}+\\lambda\\mathbf{I}$?  "
   ]
  }
 ],
 "metadata": {
  "anaconda-cloud": {},
  "kernelspec": {
   "display_name": "Python 3",
   "language": "python",
   "name": "python3"
  },
  "language_info": {
   "codemirror_mode": {
    "name": "ipython",
    "version": 3
   },
   "file_extension": ".py",
   "mimetype": "text/x-python",
   "name": "python",
   "nbconvert_exporter": "python",
   "pygments_lexer": "ipython3",
   "version": "3.7.4"
  }
 },
 "nbformat": 4,
 "nbformat_minor": 1
}
